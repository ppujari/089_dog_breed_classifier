{
  "nbformat": 4,
  "nbformat_minor": 0,
  "metadata": {
    "colab": {
      "provenance": [],
      "authorship_tag": "ABX9TyM86vBUGfgYSq16oGXRg12o",
      "include_colab_link": true
    },
    "kernelspec": {
      "name": "python3",
      "display_name": "Python 3"
    },
    "language_info": {
      "name": "python"
    }
  },
  "cells": [
    {
      "cell_type": "markdown",
      "metadata": {
        "id": "view-in-github",
        "colab_type": "text"
      },
      "source": [
        "<a href=\"https://colab.research.google.com/github/ppujari/089_dog_breed_classifier/blob/master/coin_question_5.ipynb\" target=\"_parent\"><img src=\"https://colab.research.google.com/assets/colab-badge.svg\" alt=\"Open In Colab\"/></a>"
      ]
    },
    {
      "cell_type": "markdown",
      "source": [
        "# **Question-5**\n",
        "**Approach to training a Deep Neural Network for Categorical Data for Classification:**  \n",
        "For this problem, I am dealing with a dataset that consists entirely of categorical features and a categorical target label. This means I need to:\n",
        "1.\tPreprocess categorical data properly using encoding techniques.\n",
        "2.\tTrain a neural network (MLP and another architecture) to classify the categorical target.\n",
        "3.\tExplore constraints where all model parameters (weights and biases) must remain positive.\n"
      ],
      "metadata": {
        "id": "6ReZ32gJd-mw"
      }
    },
    {
      "cell_type": "markdown",
      "source": [
        "[IMPLEMENTATION 1]  \n",
        "Training a Multilayer Perceptron (MLP) using only Pandas and NumPy\n",
        "This approach implements a basic MLP classifier from scratch using only NumPy and Pandas, demonstrating:\n",
        "\n",
        "Data encoding (One-hot encoding for categorical features)  \n",
        "Forward pass (Activation functions & output computation)  \n",
        "Backpropagation (Gradient computation & weight updates)  \n",
        "Optimization (Stochastic Gradient Descent - SGD)  "
      ],
      "metadata": {
        "id": "MO6Q_uJMQMEs"
      }
    },
    {
      "cell_type": "markdown",
      "source": [
        "1️⃣ Import Required Libraries"
      ],
      "metadata": {
        "id": "JCJ5IjbBQs_6"
      }
    },
    {
      "cell_type": "code",
      "source": [
        "import numpy as np\n",
        "import pandas as pd\n",
        "from sklearn.model_selection import train_test_split\n",
        "from sklearn.metrics import accuracy_score\n",
        "import torch\n",
        "import torch.nn as nn\n",
        "import torch.optim as optim\n",
        "from sklearn.preprocessing import OneHotEncoder"
      ],
      "metadata": {
        "id": "t1xoa8GpQv7a"
      },
      "execution_count": 2,
      "outputs": []
    },
    {
      "cell_type": "markdown",
      "source": [
        "2️⃣ Data Preparation  \n",
        "We generate a synthetic dataset with categorical features and a categorical target."
      ],
      "metadata": {
        "id": "T-SHwcRkQ9Na"
      }
    },
    {
      "cell_type": "code",
      "source": [
        "# Generate a toy categorical dataset\n",
        "data = pd.DataFrame({\n",
        "    \"feature1\": [\"A\", \"B\", \"A\", \"C\", \"B\", \"C\", \"A\", \"B\"],\n",
        "    \"feature2\": [\"X\", \"Y\", \"X\", \"Y\", \"X\", \"X\", \"Y\", \"Y\"],\n",
        "    \"target\": [\"Yes\", \"No\", \"No\", \"Yes\", \"Yes\", \"No\", \"Yes\", \"No\"]\n",
        "})\n",
        "\n",
        "# One-hot encode features and target\n",
        "X = pd.get_dummies(data[[\"feature1\", \"feature2\"]], dtype=int).values\n",
        "y = pd.get_dummies(data[\"target\"], dtype=int).values  # One-hot encoding for categorical labels\n",
        "\n",
        "# Set input/output dimensions\n",
        "input_size = X.shape[1]  # Number of features after one-hot encoding\n",
        "output_size = y.shape[1]  # Number of categories in target\n"
      ],
      "metadata": {
        "id": "eeex-rfPRCAL"
      },
      "execution_count": 3,
      "outputs": []
    },
    {
      "cell_type": "markdown",
      "source": [
        "3️⃣ Define Activation Functions  \n",
        "ReLU activation for hidden layers  \n",
        "Softmax activation for output layer  \n"
      ],
      "metadata": {
        "id": "872vTxSrRLpq"
      }
    },
    {
      "cell_type": "code",
      "source": [
        "def softmax(z):\n",
        "    exp_z = np.exp(z - np.max(z, axis=1, keepdims=True))  # Prevent overflow\n",
        "    return exp_z / np.sum(exp_z, axis=1, keepdims=True)\n",
        "\n",
        "def relu(x):\n",
        "    return np.maximum(0, x)\n",
        "\n",
        "def relu_derivative(x):\n",
        "    return (x > 0).astype(float)\n"
      ],
      "metadata": {
        "id": "vfarj3WdROjj"
      },
      "execution_count": 4,
      "outputs": []
    },
    {
      "cell_type": "markdown",
      "source": [
        "4️⃣ Implement Forward & Backward Propagation  \n",
        "Cross-entropy loss function"
      ],
      "metadata": {
        "id": "UhTXSTK0RWDs"
      }
    },
    {
      "cell_type": "code",
      "source": [
        "# Initialize weights & biases\n",
        "np.random.seed(42)\n",
        "hidden_size = 5  # Number of neurons in hidden layer\n",
        "W1 = np.random.randn(input_size, hidden_size) * 0.01\n",
        "b1 = np.zeros((1, hidden_size))\n",
        "W2 = np.random.randn(hidden_size, output_size) * 0.01\n",
        "b2 = np.zeros((1, output_size))\n",
        "\n",
        "# Hyperparameters\n",
        "learning_rate = 0.1\n",
        "epochs = 1000\n",
        "\n",
        "# Training loop\n",
        "for epoch in range(epochs):\n",
        "    # Forward Pass\n",
        "    Z1 = np.dot(X, W1) + b1\n",
        "    A1 = relu(Z1)\n",
        "    Z2 = np.dot(A1, W2) + b2\n",
        "    A2 = softmax(Z2)  # Output layer\n",
        "\n",
        "    # Compute Loss (Cross-Entropy)\n",
        "    loss = -np.mean(y * np.log(A2 + 1e-8))\n",
        "\n",
        "    # Backpropagation\n",
        "    dZ2 = A2 - y\n",
        "    dW2 = np.dot(A1.T, dZ2) / len(X)\n",
        "    db2 = np.sum(dZ2, axis=0, keepdims=True) / len(X)\n",
        "\n",
        "    dA1 = np.dot(dZ2, W2.T)\n",
        "    dZ1 = dA1 * relu_derivative(Z1)\n",
        "    dW1 = np.dot(X.T, dZ1) / len(X)\n",
        "    db1 = np.sum(dZ1, axis=0, keepdims=True) / len(X)\n",
        "\n",
        "    # Gradient Descent Update\n",
        "    W1 -= learning_rate * dW1\n",
        "    b1 -= learning_rate * db1\n",
        "    W2 -= learning_rate * dW2\n",
        "    b2 -= learning_rate * db2\n",
        "\n",
        "    if epoch % 100 == 0:\n",
        "        print(f\"Epoch {epoch}, Loss: {loss:.4f}\")\n"
      ],
      "metadata": {
        "colab": {
          "base_uri": "https://localhost:8080/"
        },
        "id": "0AWc0spkRari",
        "outputId": "a57472fb-ee59-4648-8b60-220a7b835c18"
      },
      "execution_count": 5,
      "outputs": [
        {
          "output_type": "stream",
          "name": "stdout",
          "text": [
            "Epoch 0, Loss: 0.3466\n",
            "Epoch 100, Loss: 0.3463\n",
            "Epoch 200, Loss: 0.3397\n",
            "Epoch 300, Loss: 0.2838\n",
            "Epoch 400, Loss: 0.2478\n",
            "Epoch 500, Loss: 0.2396\n",
            "Epoch 600, Loss: 0.2040\n",
            "Epoch 700, Loss: 0.1415\n",
            "Epoch 800, Loss: 0.1151\n",
            "Epoch 900, Loss: 0.1050\n"
          ]
        }
      ]
    },
    {
      "cell_type": "markdown",
      "source": [
        "[IMPLEMENTATION 2] Training a Deep Neural Network with PyTorch  \n",
        "This implementation:  \n",
        "✅ Uses PyTorch for building and training the model  \n",
        "✅ Implements a Multi-Layer Perceptron (MLP) for classification  \n",
        "✅ Includes data preparation, model definition, training, and evaluation  \n",
        "✅ Constrains weights and biases to be positive"
      ],
      "metadata": {
        "id": "LjixRRRFShCb"
      }
    },
    {
      "cell_type": "markdown",
      "source": [
        "**Architecture Choice:**  \n",
        "* Residual networks for better gradient flow  \n",
        "* Batch normalization for training stability\n"
      ],
      "metadata": {
        "id": "O777VBoCdHkk"
      }
    },
    {
      "cell_type": "code",
      "source": [
        "\n",
        "# Generate synthetic categorical dataset\n",
        "data = pd.DataFrame({\n",
        "    \"feature1\": [\"A\", \"B\", \"A\", \"C\", \"B\", \"C\", \"A\", \"B\"],\n",
        "    \"feature2\": [\"X\", \"Y\", \"X\", \"Y\", \"X\", \"X\", \"Y\", \"Y\"],\n",
        "    \"target\": [\"Yes\", \"No\", \"No\", \"Yes\", \"Yes\", \"No\", \"Yes\", \"No\"]\n",
        "})\n",
        "\n",
        "#One-hot encode categorical features\n",
        "encoder = OneHotEncoder(sparse_output=False)\n",
        "X = encoder.fit_transform(data[[\"feature1\", \"feature2\"]])\n",
        "y = pd.get_dummies(data[\"target\"], dtype=int).values  # One-hot encoding for target\n",
        "\n",
        "# Convert to PyTorch tensors\n",
        "X_train, X_test, y_train, y_test = train_test_split(X, y, test_size=0.2, random_state=42)\n",
        "X_train, X_test = torch.tensor(X_train, dtype=torch.float32), torch.tensor(X_test, dtype=torch.float32)\n",
        "y_train, y_test = torch.tensor(y_train, dtype=torch.float32), torch.tensor(y_test, dtype=torch.float32)\n",
        "\n",
        "# Input/output dimensions\n",
        "input_size = X_train.shape[1]\n",
        "output_size = y_train.shape[1]\n"
      ],
      "metadata": {
        "id": "9OYUm4LnSuUM"
      },
      "execution_count": 8,
      "outputs": []
    },
    {
      "cell_type": "markdown",
      "source": [
        "3️⃣ Define the MLP Model in PyTorch"
      ],
      "metadata": {
        "id": "KNuKdACiTIDS"
      }
    },
    {
      "cell_type": "code",
      "source": [
        "class MLP(nn.Module):\n",
        "    def __init__(self, input_size, hidden_size, output_size):\n",
        "        super(MLP, self).__init__()\n",
        "        self.fc1 = nn.Linear(input_size, hidden_size)\n",
        "        self.fc2 = nn.Linear(hidden_size, output_size)\n",
        "        self.relu = nn.ReLU()  # Activation function\n",
        "        self.softmax = nn.Softmax(dim=1)  # Output activation\n",
        "\n",
        "    def forward(self, x):\n",
        "        x = self.relu(self.fc1(x))\n",
        "        x = self.softmax(self.fc2(x))\n",
        "        return x\n",
        "\n",
        "# Initialize model\n",
        "hidden_size = 5\n",
        "model = MLP(input_size, hidden_size, output_size)\n",
        "\n",
        "# Loss function & optimizer\n",
        "criterion = nn.CrossEntropyLoss()\n",
        "optimizer = optim.Adam(model.parameters(), lr=0.01)\n"
      ],
      "metadata": {
        "id": "YOb_gJ_DTJZS"
      },
      "execution_count": 9,
      "outputs": []
    },
    {
      "cell_type": "markdown",
      "source": [
        "4️⃣ Training Loop"
      ],
      "metadata": {
        "id": "0mopBnD9TPxF"
      }
    },
    {
      "cell_type": "code",
      "source": [
        "epochs = 500\n",
        "for epoch in range(epochs):\n",
        "    model.train()  # Set model to training mode\n",
        "\n",
        "    # Forward pass\n",
        "    outputs = model(X_train)\n",
        "    loss = criterion(outputs, torch.argmax(y_train, dim=1))  # Cross-entropy loss\n",
        "\n",
        "    # Backward pass\n",
        "    optimizer.zero_grad()\n",
        "    loss.backward()\n",
        "    optimizer.step()\n",
        "\n",
        "    # Print loss every 100 epochs\n",
        "    if epoch % 100 == 0:\n",
        "        print(f\"Epoch {epoch}, Loss: {loss.item():.4f}\")\n"
      ],
      "metadata": {
        "colab": {
          "base_uri": "https://localhost:8080/"
        },
        "id": "dzWlDRAgTXBT",
        "outputId": "2d593775-bb43-414f-cbc2-28ddd19b4f09"
      },
      "execution_count": 10,
      "outputs": [
        {
          "output_type": "stream",
          "name": "stdout",
          "text": [
            "Epoch 0, Loss: 0.6692\n",
            "Epoch 100, Loss: 0.4869\n",
            "Epoch 200, Loss: 0.4526\n",
            "Epoch 300, Loss: 0.4461\n",
            "Epoch 400, Loss: 0.4437\n"
          ]
        }
      ]
    },
    {
      "cell_type": "markdown",
      "source": [
        "5️⃣ Evaluate the Model"
      ],
      "metadata": {
        "id": "LxVEpLc4TcUL"
      }
    },
    {
      "cell_type": "code",
      "source": [
        "model.eval()  # Set model to evaluation mode\n",
        "with torch.no_grad():\n",
        "    test_outputs = model(X_test)\n",
        "    predicted = torch.argmax(test_outputs, dim=1)\n",
        "    actual = torch.argmax(y_test, dim=1)\n",
        "    accuracy = (predicted == actual).sum().item() / len(y_test)\n",
        "\n",
        "print(f\"Test Accuracy: {accuracy:.2f}\")\n"
      ],
      "metadata": {
        "colab": {
          "base_uri": "https://localhost:8080/"
        },
        "id": "-KREE7k-TgEG",
        "outputId": "6f63b76c-3de5-4470-e591-1aee4f1f757f"
      },
      "execution_count": 11,
      "outputs": [
        {
          "output_type": "stream",
          "name": "stdout",
          "text": [
            "Test Accuracy: 0.50\n"
          ]
        }
      ]
    },
    {
      "cell_type": "markdown",
      "source": [
        "[CONSTRAINING WEIGHTS & BIASES TO BE POSITIVE]  \n",
        "PyTorch allows constraints via custom weight updates.\n",
        "\n",
        "Option 1: Apply ReLU to Weights"
      ],
      "metadata": {
        "id": "qidW0cTjTkqr"
      }
    },
    {
      "cell_type": "code",
      "source": [
        "def enforce_positive_weights():\n",
        "    with torch.no_grad():\n",
        "        for param in model.parameters():\n",
        "            param.clamp_(min=0)  # Ensures all weights & biases stay positive\n",
        "\n",
        "for epoch in range(epochs):\n",
        "    model.train()\n",
        "    outputs = model(X_train)\n",
        "    loss = criterion(outputs, torch.argmax(y_train, dim=1))\n",
        "\n",
        "    optimizer.zero_grad()\n",
        "    loss.backward()\n",
        "    optimizer.step()\n",
        "\n",
        "    enforce_positive_weights()  # Apply positivity constraint\n"
      ],
      "metadata": {
        "id": "hbzQ9ojXTrRy"
      },
      "execution_count": 12,
      "outputs": []
    },
    {
      "cell_type": "markdown",
      "source": [
        "Option 2: Use Non-Negative Parameterization"
      ],
      "metadata": {
        "id": "nxhpZPxGT1Wj"
      }
    },
    {
      "cell_type": "code",
      "source": [
        "class PositiveLinear(nn.Module):\n",
        "    def __init__(self, in_features, out_features):\n",
        "        super(PositiveLinear, self).__init__()\n",
        "        self.weight = nn.Parameter(torch.abs(torch.randn(out_features, in_features)))  # Init positive weights\n",
        "        self.bias = nn.Parameter(torch.abs(torch.randn(out_features)))  # Init positive bias\n",
        "\n",
        "    def forward(self, x):\n",
        "        return nn.functional.linear(x, torch.abs(self.weight), torch.abs(self.bias))  # Ensure weights/bias remain positive\n",
        "\n",
        "# Use in model\n",
        "class ConstrainedMLP(nn.Module):\n",
        "    def __init__(self, input_size, hidden_size, output_size):\n",
        "        super(ConstrainedMLP, self).__init__()\n",
        "        self.fc1 = PositiveLinear(input_size, hidden_size)\n",
        "        self.fc2 = PositiveLinear(hidden_size, output_size)\n",
        "        self.relu = nn.ReLU()\n",
        "        self.softmax = nn.Softmax(dim=1)\n",
        "\n",
        "    def forward(self, x):\n",
        "        x = self.relu(self.fc1(x))\n",
        "        x = self.softmax(self.fc2(x))\n",
        "        return x\n",
        "\n",
        "model = ConstrainedMLP(input_size, hidden_size, output_size)\n"
      ],
      "metadata": {
        "id": "0qGKe_nBT2jQ"
      },
      "execution_count": 13,
      "outputs": []
    },
    {
      "cell_type": "markdown",
      "source": [
        "**Final Thoughts**  \n",
        "PyTorch is much easier to use and scales better for deep learning.  \n",
        "Weight constraints can be enforced with clamp_() or custom layers.  \n",
        "Alternative models like TabTransformer could improve performance on categorical data.  \n",
        "\n",
        "We can extend this with regularization, dropout, or a different architecture (e.g., Transformer-based models for tabular data) also.\n"
      ],
      "metadata": {
        "id": "c1fmCs3YT7e7"
      }
    }
  ]
}